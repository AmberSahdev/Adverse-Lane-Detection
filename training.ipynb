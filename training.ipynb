{
 "cells": [
  {
   "cell_type": "code",
   "execution_count": 9,
   "metadata": {},
   "outputs": [],
   "source": [
    "import numpy as np\n",
    "import cv2\n",
    "from darkflow.net.build import TFNet\n",
    "import os"
   ]
  },
  {
   "cell_type": "code",
   "execution_count": 10,
   "metadata": {},
   "outputs": [
    {
     "name": "stdout",
     "output_type": "stream",
     "text": [
      "Parsing ./cfg/yolo.cfg\n",
      "Parsing cfg/yolo_darkcars.cfg\n",
      "Loading bin/yolo.weights ...\n",
      "Successfully identified 203934260 bytes\n",
      "Finished in 1.2633006572723389s\n",
      "\n",
      "Building net ...\n",
      "Source | Train? | Layer description                | Output size\n",
      "-------+--------+----------------------------------+---------------\n",
      "       |        | input                            | (?, 608, 608, 3)\n",
      " Load  |  Yep!  | conv 3x3p1_1  +bnorm  leaky      | (?, 608, 608, 32)\n",
      " Load  |  Yep!  | maxp 2x2p0_2                     | (?, 304, 304, 32)\n",
      " Load  |  Yep!  | conv 3x3p1_1  +bnorm  leaky      | (?, 304, 304, 64)\n",
      " Load  |  Yep!  | maxp 2x2p0_2                     | (?, 152, 152, 64)\n",
      " Load  |  Yep!  | conv 3x3p1_1  +bnorm  leaky      | (?, 152, 152, 128)\n",
      " Load  |  Yep!  | conv 1x1p0_1  +bnorm  leaky      | (?, 152, 152, 64)\n",
      " Load  |  Yep!  | conv 3x3p1_1  +bnorm  leaky      | (?, 152, 152, 128)\n",
      " Load  |  Yep!  | maxp 2x2p0_2                     | (?, 76, 76, 128)\n",
      " Load  |  Yep!  | conv 3x3p1_1  +bnorm  leaky      | (?, 76, 76, 256)\n",
      " Load  |  Yep!  | conv 1x1p0_1  +bnorm  leaky      | (?, 76, 76, 128)\n",
      " Load  |  Yep!  | conv 3x3p1_1  +bnorm  leaky      | (?, 76, 76, 256)\n",
      " Load  |  Yep!  | maxp 2x2p0_2                     | (?, 38, 38, 256)\n",
      " Load  |  Yep!  | conv 3x3p1_1  +bnorm  leaky      | (?, 38, 38, 512)\n",
      " Load  |  Yep!  | conv 1x1p0_1  +bnorm  leaky      | (?, 38, 38, 256)\n",
      " Load  |  Yep!  | conv 3x3p1_1  +bnorm  leaky      | (?, 38, 38, 512)\n",
      " Load  |  Yep!  | conv 1x1p0_1  +bnorm  leaky      | (?, 38, 38, 256)\n",
      " Load  |  Yep!  | conv 3x3p1_1  +bnorm  leaky      | (?, 38, 38, 512)\n",
      " Load  |  Yep!  | maxp 2x2p0_2                     | (?, 19, 19, 512)\n",
      " Load  |  Yep!  | conv 3x3p1_1  +bnorm  leaky      | (?, 19, 19, 1024)\n",
      " Load  |  Yep!  | conv 1x1p0_1  +bnorm  leaky      | (?, 19, 19, 512)\n",
      " Load  |  Yep!  | conv 3x3p1_1  +bnorm  leaky      | (?, 19, 19, 1024)\n",
      " Load  |  Yep!  | conv 1x1p0_1  +bnorm  leaky      | (?, 19, 19, 512)\n",
      " Load  |  Yep!  | conv 3x3p1_1  +bnorm  leaky      | (?, 19, 19, 1024)\n",
      " Load  |  Yep!  | conv 3x3p1_1  +bnorm  leaky      | (?, 19, 19, 1024)\n",
      " Load  |  Yep!  | conv 3x3p1_1  +bnorm  leaky      | (?, 19, 19, 1024)\n",
      " Load  |  Yep!  | concat [16]                      | (?, 38, 38, 512)\n",
      " Load  |  Yep!  | conv 1x1p0_1  +bnorm  leaky      | (?, 38, 38, 64)\n",
      " Load  |  Yep!  | local flatten 2x2                | (?, 19, 19, 256)\n",
      " Load  |  Yep!  | concat [27, 24]                  | (?, 19, 19, 1280)\n",
      " Load  |  Yep!  | conv 3x3p1_1  +bnorm  leaky      | (?, 19, 19, 1024)\n",
      " Init  |  Yep!  | conv 1x1p0_1    linear           | (?, 19, 19, 30)\n",
      "-------+--------+----------------------------------+---------------\n",
      "Running entirely on CPU\n",
      "cfg/yolo_darkcars.cfg loss hyper-parameters:\n",
      "\tH       = 19\n",
      "\tW       = 19\n",
      "\tbox     = 5\n",
      "\tclasses = 1\n",
      "\tscales  = [1.0, 5.0, 1.0, 1.0]\n",
      "Building cfg/yolo_darkcars.cfg loss\n",
      "INFO:tensorflow:Summary name cfg/yolo_darkcars.cfg loss is illegal; using cfg/yolo_darkcars.cfg_loss instead.\n",
      "Building cfg/yolo_darkcars.cfg train op\n",
      "Finished in 22.674268007278442s\n",
      "\n"
     ]
    }
   ],
   "source": [
    "options = {\"model\": \"cfg/yolo_darkcars.cfg\", \n",
    "           \"load\": \"bin/yolo.weights\",\n",
    "           \"batch\": 8,\n",
    "           \"epoch\": 50,\n",
    "           \"gpu\": 1.0,\n",
    "           \"train\": True,\n",
    "           \"annotation\": \"ExDark_Custom_Anno/Car/\",\n",
    "           \"dataset\": \"ExDark/Car/\",\n",
    "           \"labels\": \"labels.txt\",}\n",
    "           \n",
    "tfnet = TFNet(options)"
   ]
  },
  {
   "cell_type": "code",
   "execution_count": null,
   "metadata": {},
   "outputs": [
    {
     "name": "stdout",
     "output_type": "stream",
     "text": [
      "\n",
      "cfg/yolo_darkcars.cfg parsing ExDark_Custom_Anno/Car/\n",
      "Parsing for ['car'] \n",
      "[====================>]100%  2015_02834.xml\n",
      "Statistics:\n",
      "car: 623\n",
      "Dataset size: 623\n",
      "Dataset of 623 instance(s)\n",
      "Training statistics: \n",
      "\tLearning rate : 1e-05\n",
      "\tBatch size    : 8\n",
      "\tEpoch number  : 50\n",
      "\tBackup every  : 2000\n",
      "step 1 - loss 225.16273498535156 - moving ave loss 225.16273498535156\n",
      "step 2 - loss 223.31390380859375 - moving ave loss 224.97785186767578\n",
      "step 3 - loss 221.6804656982422 - moving ave loss 224.64811325073242\n",
      "step 4 - loss 219.8779296875 - moving ave loss 224.17109489440918\n",
      "step 5 - loss 218.94189453125 - moving ave loss 223.64817485809326\n",
      "step 6 - loss 217.72415161132812 - moving ave loss 223.05577253341676\n",
      "step 7 - loss 217.04360961914062 - moving ave loss 222.45455624198914\n",
      "step 8 - loss 215.5839080810547 - moving ave loss 221.76749142589568\n",
      "step 9 - loss 215.60617065429688 - moving ave loss 221.1513593487358\n",
      "step 10 - loss 214.31134033203125 - moving ave loss 220.46735744706538\n",
      "step 11 - loss 213.41302490234375 - moving ave loss 219.76192419259323\n",
      "step 12 - loss 212.56396484375 - moving ave loss 219.0421282577089\n",
      "step 13 - loss 212.30987548828125 - moving ave loss 218.36890298076614\n",
      "step 14 - loss 211.1426544189453 - moving ave loss 217.64627812458406\n",
      "step 15 - loss 209.5361785888672 - moving ave loss 216.8352681710124\n",
      "step 16 - loss 208.8980712890625 - moving ave loss 216.0415484828174\n",
      "step 17 - loss 208.19927978515625 - moving ave loss 215.25732161305132\n",
      "step 18 - loss 208.21551513671875 - moving ave loss 214.5531409654181\n",
      "step 19 - loss 207.46737670898438 - moving ave loss 213.84456453977475\n",
      "step 20 - loss 205.76251220703125 - moving ave loss 213.0363593065004\n",
      "step 21 - loss 204.2561492919922 - moving ave loss 212.15833830504957\n",
      "step 22 - loss 204.85047912597656 - moving ave loss 211.42755238714227\n",
      "step 23 - loss 203.89120483398438 - moving ave loss 210.6739176318265\n",
      "step 24 - loss 203.8822021484375 - moving ave loss 209.9947460834876\n",
      "step 25 - loss 202.249267578125 - moving ave loss 209.22019823295136\n",
      "step 26 - loss 201.841796875 - moving ave loss 208.48235809715624\n",
      "step 27 - loss 200.2487030029297 - moving ave loss 207.6589925877336\n",
      "step 28 - loss 200.9813232421875 - moving ave loss 206.99122565317901\n",
      "step 29 - loss 199.68553161621094 - moving ave loss 206.2606562494822\n",
      "step 30 - loss 198.31463623046875 - moving ave loss 205.46605424758087\n",
      "step 31 - loss 197.96054077148438 - moving ave loss 204.71550289997123\n",
      "step 32 - loss 196.98233032226562 - moving ave loss 203.94218564220068\n",
      "step 33 - loss 196.37881469726562 - moving ave loss 203.18584854770717\n",
      "step 34 - loss 196.51585388183594 - moving ave loss 202.51884908112007\n",
      "step 35 - loss 194.8378448486328 - moving ave loss 201.75074865787136\n",
      "step 36 - loss 193.31253051757812 - moving ave loss 200.90692684384203\n",
      "step 37 - loss 194.66461181640625 - moving ave loss 200.28269534109845\n"
     ]
    }
   ],
   "source": [
    "tfnet.train() "
   ]
  }
 ],
 "metadata": {
  "kernelspec": {
   "display_name": "CV_final_project",
   "language": "python",
   "name": "cv_final_project"
  },
  "language_info": {
   "codemirror_mode": {
    "name": "ipython",
    "version": 3
   },
   "file_extension": ".py",
   "mimetype": "text/x-python",
   "name": "python",
   "nbconvert_exporter": "python",
   "pygments_lexer": "ipython3",
   "version": "3.6.8"
  }
 },
 "nbformat": 4,
 "nbformat_minor": 2
}
